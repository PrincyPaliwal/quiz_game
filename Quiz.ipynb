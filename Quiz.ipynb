{
  "nbformat": 4,
  "nbformat_minor": 0,
  "metadata": {
    "colab": {
      "provenance": [],
      "authorship_tag": "ABX9TyP4W+CuU0Li+hkWVq8OuO+k",
      "include_colab_link": true
    },
    "kernelspec": {
      "name": "python3",
      "display_name": "Python 3"
    },
    "language_info": {
      "name": "python"
    }
  },
  "cells": [
    {
      "cell_type": "markdown",
      "metadata": {
        "id": "view-in-github",
        "colab_type": "text"
      },
      "source": [
        "<a href=\"https://colab.research.google.com/github/PrincyPaliwal/quiz_game/blob/main/Quiz.ipynb\" target=\"_parent\"><img src=\"https://colab.research.google.com/assets/colab-badge.svg\" alt=\"Open In Colab\"/></a>"
      ]
    },
    {
      "cell_type": "code",
      "source": [
        "def load_quiz_data(file_path):\n",
        "    \"\"\"Loads quiz data from a file.\"\"\"\n",
        "    quiz_data = []\n",
        "    try:\n",
        "        with open(file_path, \"r\") as file:\n",
        "            for line in file:\n",
        "                parts = line.strip().split(\"|\")\n",
        "                question = parts[0]\n",
        "                options = parts[1:6]\n",
        "                correct = int(parts[6])\n",
        "                quiz_data.append({\"question\": question, \"options\": options, \"correct\": correct})\n",
        "    except FileNotFoundError:\n",
        "        print(f\"Error: File '{file_path}' not found.\")\n",
        "    return quiz_data\n",
        "\n",
        "\n",
        "def play_quiz(quiz_data):\n",
        "    \"\"\"Runs the quiz game.\"\"\"\n",
        "    score = 0\n",
        "    for i, item in enumerate(quiz_data, start=1):\n",
        "        print(f\"\\nQuestion {i}: {item['question']}\")\n",
        "        for option in item[\"options\"]:\n",
        "            print(option)\n",
        "\n",
        "\n",
        "        try:\n",
        "            user_answer = int(input(\"Enter the option number (1-5): \").strip())\n",
        "        except ValueError:\n",
        "            print(\"Invalid input! Please enter a number between 1 and 5.\")\n",
        "            continue\n",
        "\n",
        "\n",
        "        if 1 <= user_answer <= 5:\n",
        "            if user_answer == item[\"correct\"]:\n",
        "                print(\"Correct!\")\n",
        "                score += 1\n",
        "            else:\n",
        "                correct_option = item[\"options\"][item[\"correct\"] - 1]\n",
        "                print(f\"Wrong! The correct answer is: {correct_option}\")\n",
        "        else:\n",
        "            print(\"Invalid choice! Please choose between 1 and 5.\")\n",
        "\n",
        "\n",
        "    print(\"\\n--- Quiz Over ---\")\n",
        "    print(f\"Your final score is: {score}/{len(quiz_data)}\")\n",
        "\n",
        "\n",
        "\n",
        "if __name__ == \"__main__\":\n",
        "    print(\"Welcome to the Quiz Game!\")\n",
        "    quiz_file = \"quiz.txt\"\n",
        "    quiz_data = load_quiz_data(quiz_file)\n",
        "    if quiz_data:\n",
        "        play_quiz(quiz_data)\n"
      ],
      "metadata": {
        "colab": {
          "base_uri": "https://localhost:8080/"
        },
        "id": "fvuWO8aCmHK6",
        "outputId": "1b277976-0a0a-4169-c6b6-51dd96aa9010"
      },
      "execution_count": null,
      "outputs": [
        {
          "output_type": "stream",
          "name": "stdout",
          "text": [
            "Welcome to the Quiz Game!\n",
            "\n",
            "Question 1: What is the capital of France?\n",
            "1. Berlin\n",
            "2. Madrid\n",
            "3. Paris\n",
            "4. Rome\n",
            "5. Lisbon\n",
            "Enter the option number (1-5): 1\n",
            "Wrong! The correct answer is: 3. Paris\n",
            "\n",
            "Question 2: Which planet is known as the Red Planet?\n",
            "1. Earth\n",
            "2. Mars\n",
            "3. Jupiter\n",
            "4. Saturn\n",
            "5. Venus\n"
          ]
        }
      ]
    },
    {
      "cell_type": "code",
      "source": [],
      "metadata": {
        "id": "ua9ODJzWm5xV"
      },
      "execution_count": null,
      "outputs": []
    }
  ]
}